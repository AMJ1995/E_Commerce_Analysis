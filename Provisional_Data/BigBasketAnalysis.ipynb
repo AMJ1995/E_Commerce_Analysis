{
 "cells": [
  {
   "cell_type": "code",
   "execution_count": 1,
   "metadata": {},
   "outputs": [],
   "source": [
    "import pandas as pd\n",
    "import numpy as np"
   ]
  },
  {
   "cell_type": "code",
   "execution_count": 2,
   "id": "b897eca6",
   "metadata": {},
   "outputs": [
    {
     "data": {
      "text/html": [
       "<div>\n",
       "<style scoped>\n",
       "    .dataframe tbody tr th:only-of-type {\n",
       "        vertical-align: middle;\n",
       "    }\n",
       "\n",
       "    .dataframe tbody tr th {\n",
       "        vertical-align: top;\n",
       "    }\n",
       "\n",
       "    .dataframe thead th {\n",
       "        text-align: right;\n",
       "    }\n",
       "</style>\n",
       "<table border=\"1\" class=\"dataframe\">\n",
       "  <thead>\n",
       "    <tr style=\"text-align: right;\">\n",
       "      <th></th>\n",
       "      <th>item_index</th>\n",
       "      <th>product</th>\n",
       "      <th>category</th>\n",
       "      <th>sub_category</th>\n",
       "      <th>brand</th>\n",
       "      <th>sale_price</th>\n",
       "      <th>market_price</th>\n",
       "      <th>item_type</th>\n",
       "      <th>rating</th>\n",
       "      <th>description</th>\n",
       "    </tr>\n",
       "  </thead>\n",
       "  <tbody>\n",
       "    <tr>\n",
       "      <th>0</th>\n",
       "      <td>1</td>\n",
       "      <td>Garlic Oil - Vegetarian Capsule 500 mg</td>\n",
       "      <td>Beauty &amp; Hygiene</td>\n",
       "      <td>Hair Care</td>\n",
       "      <td>Sri Sri Ayurveda</td>\n",
       "      <td>220.0</td>\n",
       "      <td>220.0</td>\n",
       "      <td>Hair Oil &amp; Serum</td>\n",
       "      <td>4.1</td>\n",
       "      <td>This Product contains Garlic Oil that is known...</td>\n",
       "    </tr>\n",
       "    <tr>\n",
       "      <th>1</th>\n",
       "      <td>2</td>\n",
       "      <td>Water Bottle - Orange</td>\n",
       "      <td>Kitchen, Garden &amp; Pets</td>\n",
       "      <td>Storage &amp; Accessories</td>\n",
       "      <td>Mastercook</td>\n",
       "      <td>180.0</td>\n",
       "      <td>180.0</td>\n",
       "      <td>Water &amp; Fridge Bottles</td>\n",
       "      <td>2.3</td>\n",
       "      <td>Each product is microwave safe (without lid), ...</td>\n",
       "    </tr>\n",
       "    <tr>\n",
       "      <th>2</th>\n",
       "      <td>3</td>\n",
       "      <td>Brass Angle Deep - Plain, No.2</td>\n",
       "      <td>Cleaning &amp; Household</td>\n",
       "      <td>Pooja Needs</td>\n",
       "      <td>Trm</td>\n",
       "      <td>119.0</td>\n",
       "      <td>250.0</td>\n",
       "      <td>Lamp &amp; Lamp Oil</td>\n",
       "      <td>3.4</td>\n",
       "      <td>A perfect gift for all occasions, be it your m...</td>\n",
       "    </tr>\n",
       "    <tr>\n",
       "      <th>3</th>\n",
       "      <td>4</td>\n",
       "      <td>Cereal Flip Lid Container/Storage Jar - Assort...</td>\n",
       "      <td>Cleaning &amp; Household</td>\n",
       "      <td>Bins &amp; Bathroom Ware</td>\n",
       "      <td>Nakoda</td>\n",
       "      <td>149.0</td>\n",
       "      <td>176.0</td>\n",
       "      <td>Laundry, Storage Baskets</td>\n",
       "      <td>3.7</td>\n",
       "      <td>Multipurpose container with an attractive desi...</td>\n",
       "    </tr>\n",
       "    <tr>\n",
       "      <th>4</th>\n",
       "      <td>5</td>\n",
       "      <td>Creme Soft Soap - For Hands &amp; Body</td>\n",
       "      <td>Beauty &amp; Hygiene</td>\n",
       "      <td>Bath &amp; Hand Wash</td>\n",
       "      <td>Nivea</td>\n",
       "      <td>162.0</td>\n",
       "      <td>162.0</td>\n",
       "      <td>Bathing Bars &amp; Soaps</td>\n",
       "      <td>4.4</td>\n",
       "      <td>Nivea Creme Soft Soap gives your skin the best...</td>\n",
       "    </tr>\n",
       "  </tbody>\n",
       "</table>\n",
       "</div>"
      ],
      "text/plain": [
       "   item_index                                            product  \\\n",
       "0           1             Garlic Oil - Vegetarian Capsule 500 mg   \n",
       "1           2                              Water Bottle - Orange   \n",
       "2           3                     Brass Angle Deep - Plain, No.2   \n",
       "3           4  Cereal Flip Lid Container/Storage Jar - Assort...   \n",
       "4           5                 Creme Soft Soap - For Hands & Body   \n",
       "\n",
       "                 category           sub_category              brand  \\\n",
       "0        Beauty & Hygiene              Hair Care  Sri Sri Ayurveda    \n",
       "1  Kitchen, Garden & Pets  Storage & Accessories         Mastercook   \n",
       "2    Cleaning & Household            Pooja Needs                Trm   \n",
       "3    Cleaning & Household   Bins & Bathroom Ware             Nakoda   \n",
       "4        Beauty & Hygiene       Bath & Hand Wash              Nivea   \n",
       "\n",
       "   sale_price  market_price                 item_type  rating  \\\n",
       "0       220.0         220.0          Hair Oil & Serum     4.1   \n",
       "1       180.0         180.0    Water & Fridge Bottles     2.3   \n",
       "2       119.0         250.0           Lamp & Lamp Oil     3.4   \n",
       "3       149.0         176.0  Laundry, Storage Baskets     3.7   \n",
       "4       162.0         162.0      Bathing Bars & Soaps     4.4   \n",
       "\n",
       "                                         description  \n",
       "0  This Product contains Garlic Oil that is known...  \n",
       "1  Each product is microwave safe (without lid), ...  \n",
       "2  A perfect gift for all occasions, be it your m...  \n",
       "3  Multipurpose container with an attractive desi...  \n",
       "4  Nivea Creme Soft Soap gives your skin the best...  "
      ]
     },
     "execution_count": 2,
     "metadata": {},
     "output_type": "execute_result"
    }
   ],
   "source": [
    "data = pd.read_csv('Resources/BigBasket Products.csv')\n",
    "data.head()"
   ]
  },
  {
   "cell_type": "code",
   "execution_count": 3,
   "id": "6de5c0ad",
   "metadata": {},
   "outputs": [],
   "source": [
    "data.drop('description', axis = 1, inplace = True)"
   ]
  },
  {
   "cell_type": "code",
   "execution_count": 4,
   "id": "493f9784",
   "metadata": {},
   "outputs": [
    {
     "data": {
      "text/plain": [
       "array(['Beauty & Hygiene', 'Kitchen, Garden & Pets',\n",
       "       'Cleaning & Household', 'Gourmet & World Food',\n",
       "       'Foodgrains, Oil & Masala', 'Snacks & Branded Foods', 'Beverages',\n",
       "       'Bakery, Cakes & Dairy', 'Baby Care', 'Fruits & Vegetables',\n",
       "       'Eggs, Meat & Fish'], dtype=object)"
      ]
     },
     "execution_count": 4,
     "metadata": {},
     "output_type": "execute_result"
    }
   ],
   "source": [
    "data.category.unique()"
   ]
  },
  {
   "cell_type": "code",
   "execution_count": 5,
   "id": "ad42d702",
   "metadata": {},
   "outputs": [
    {
     "data": {
      "text/plain": [
       "array(['Hair Care', 'Storage & Accessories', 'Pooja Needs',\n",
       "       'Bins & Bathroom Ware', 'Bath & Hand Wash', 'All Purpose Cleaners',\n",
       "       'Skin Care', 'Mops, Brushes & Scrubs', 'Cooking & Baking Needs',\n",
       "       'Chocolates & Biscuits', 'Fresheners & Repellents',\n",
       "       'Snacks, Dry Fruits, Nuts', 'Dairy & Cheese',\n",
       "       'Pasta, Soup & Noodles', 'Dry Fruits', 'Drinks & Beverages',\n",
       "       'Kitchen Accessories', 'Flask & Casserole', 'Breakfast Cereals',\n",
       "       'Frozen Veggies & Snacks', 'Fruit Juices & Drinks',\n",
       "       'Cookies, Rusk & Khari', 'Fragrances & Deos', 'Tea',\n",
       "       'Masalas & Spices', \"Men's Grooming\", 'Chocolates & Candies',\n",
       "       'Steel Utensils', 'Tinned & Processed Food', 'Organic Staples',\n",
       "       'Sauces, Spreads & Dips', 'Pickles & Chutney',\n",
       "       'Ready To Cook & Eat', 'Baby Bath & Hygiene', 'Stationery',\n",
       "       'Pet Food & Accessories', 'Biscuits & Cookies', 'Oral Care',\n",
       "       'Snacks & Namkeen', 'Detergents & Dishwash', 'Crockery & Cutlery',\n",
       "       'Cuts & Sprouts', 'Health & Medicine', 'Cookware & Non Stick',\n",
       "       'Dairy', 'Feminine Hygiene', 'Diapers & Wipes',\n",
       "       'Edible Oils & Ghee', 'Baby Food & Formula', 'Fresh Fruits',\n",
       "       'Fresh Vegetables', 'Herbs & Seasonings', 'Breads & Buns',\n",
       "       'Oils & Vinegar', 'Feeding & Nursing', 'Energy & Soft Drinks',\n",
       "       'Appliances & Electricals', 'Salt, Sugar & Jaggery',\n",
       "       'Gourmet Breads', 'Organic Fruits & Vegetables', 'Indian Mithai',\n",
       "       'Fish & Seafood', 'Sausages, Bacon & Salami',\n",
       "       'Disposables, Garbage Bag', 'Dals & Pulses',\n",
       "       'Noodle, Pasta, Vermicelli', 'Rice & Rice Products',\n",
       "       'Cakes & Pastries', 'Spreads, Sauces, Ketchup',\n",
       "       'Cereals & Breakfast', 'Party & Festive Needs', 'Eggs',\n",
       "       'Health Drink, Supplement', 'Non Dairy', 'Bakeware',\n",
       "       'Exotic Fruits & Veggies', 'Baby Accessories', 'Coffee', 'Makeup',\n",
       "       'Atta, Flours & Sooji', 'Car & Shoe Care', 'Mutton & Lamb',\n",
       "       'Gardening', 'Ice Creams & Desserts', 'Bakery Snacks', 'Water',\n",
       "       'Mothers & Maternity', 'Marinades', 'Pork & Other Meats',\n",
       "       'Flower Bouquets, Bunches'], dtype=object)"
      ]
     },
     "execution_count": 5,
     "metadata": {},
     "output_type": "execute_result"
    }
   ],
   "source": [
    "data.sub_category.unique()"
   ]
  },
  {
   "cell_type": "code",
   "execution_count": 6,
   "id": "e756c070",
   "metadata": {},
   "outputs": [
    {
     "data": {
      "text/plain": [
       "array(['Sri Sri Ayurveda ', 'Mastercook', 'Trm', ..., 'Solo', '365',\n",
       "       'Baron De Bercy'], dtype=object)"
      ]
     },
     "execution_count": 6,
     "metadata": {},
     "output_type": "execute_result"
    }
   ],
   "source": [
    "data.brand.unique()"
   ]
  },
  {
   "cell_type": "code",
   "execution_count": 15,
   "id": "228110fb",
   "metadata": {},
   "outputs": [
    {
     "data": {
      "text/plain": [
       "array(['Hair Oil & Serum', 'Water & Fridge Bottles', 'Lamp & Lamp Oil',\n",
       "       'Laundry, Storage Baskets', 'Bathing Bars & Soaps',\n",
       "       'Disinfectant Spray & Cleaners', 'Face Care',\n",
       "       'Hand Wash & Sanitizers', 'Shampoo & Conditioner',\n",
       "       'Utensil Scrub-Pad, Glove', 'Flours & Pre-Mixes',\n",
       "       'Luxury Chocolates, Gifts', 'Floor & Other Cleaners',\n",
       "       'Mosquito Repellent', 'Soap Cases & Dispensers', 'Aromatherapy',\n",
       "       'Roasted Seeds & Nuts', 'Tofu', 'Tools & Accessories',\n",
       "       'Imported Noodles', 'Other Dry Fruits', 'Gourmet Tea & Tea Bags',\n",
       "       'Choppers & Graters', 'Casserole', 'Granola & Cereal Bars',\n",
       "       'Frozen Veg Snacks', 'Lip Care', 'Juices',\n",
       "       'Bakery Biscuits, Cookies', \"Men's Deodorants\", 'Green Tea',\n",
       "       'Containers Sets', 'Whole Spices', 'Blended Masalas', 'Chocolates',\n",
       "       'Eau De Toilette', 'Cookies, Biscotti, Wafer', 'Steel Lunch Boxes',\n",
       "       'Olive, Jalapeno, Gherkin', 'Organic Rice, Other Rice',\n",
       "       'Shaving Care', 'Imported Cleaners', 'Thai & Asian Sauces',\n",
       "       'Chutney Powder', 'Cooking Pastes', 'Gourmet Juices & Drinks',\n",
       "       'Face & Body', 'Beans & Pulses', 'Papads, Ready To Fry',\n",
       "       'Hair & Scalp Treatment', 'Baby Health',\n",
       "       'Notebooks, Files, Folders', 'Kitchen Tools & Other Accessories',\n",
       "       'Pet Meals & Treats', 'Chocolate, Peanut Spread',\n",
       "       'Marie, Health, Digestive', 'Electric Toothbrush',\n",
       "       'Pet Collars & Leashes', 'Toothpaste', 'Dry Fruits & Berries',\n",
       "       'Toothbrush', 'Chips & Corn Snacks', 'Imported Soups',\n",
       "       'Organic Dals & Pulses', 'Gourmet Ice Cream',\n",
       "       'Dishwash Bars & Powders', 'Glassware', 'International Cheese',\n",
       "       'Agarbatti, Incense Sticks', 'Cut & Peeled Veggies', 'Ayurveda',\n",
       "       'Tawa & Sauce Pan', 'Flavoured, Soya Milk',\n",
       "       'Namkeen & Savoury Snacks', 'Steel Storage Containers',\n",
       "       'Hair Removal', 'Diapers', 'Other Edible Oils', 'Quinoa & Grains',\n",
       "       'Shower Gel & Body Wash', 'Umbrella', 'Kadai & Fry Pans',\n",
       "       'Baby Food', 'Body Care', 'Organic Masalas & Spices',\n",
       "       'Gourmet Popcorn', 'Organic Fruits', 'Leaf & Dust Tea',\n",
       "       'Bowls & Vessels', 'Rusks', 'Air Freshener',\n",
       "       'Cabbage & Cauliflower', 'Lunch Boxes', 'Sunflower, Rice Bran Oil',\n",
       "       'Supplements & Proteins', 'Cream Biscuits & Wafers',\n",
       "       'Banana, Sapota & Papaya', 'Lemon, Ginger & Garlic',\n",
       "       'Baking, Cake Decorations', 'International Chocolates',\n",
       "       'Breakfast & Snack Mixes', 'Plates & Tumblers',\n",
       "       'Organic Edible Oil, Ghee', 'Lime & Mango Pickle',\n",
       "       'Powdered Spices', 'Milk, White & Sandwich',\n",
       "       'Curry Paste, Coconut Milk', 'Flakes', 'Flavoured & Other Oils',\n",
       "       'Healthy, Baked Snacks', 'Pure, Pomace Olive Oil', 'Hair Color',\n",
       "       'Bibs & Napkins', 'Exam Pads & Pencil Box',\n",
       "       'Sports & Energy Drinks', 'Everyday Medicine', 'CFL & Led Bulbs',\n",
       "       'Indian & Exotic Herbs', 'Sugar & Jaggery',\n",
       "       'Kitchen, Glass & Drain', 'Heat & Eat Ready Meals',\n",
       "       'Pressure Cookers', 'Gourmet Bread', 'Mops, Wipers',\n",
       "       'Organic Vegetables', 'Chikki & Gajjak', 'Attar',\n",
       "       'Body Sprays & Mists', 'Home Baking', 'Strainer, Ladle, Spatula',\n",
       "       'Balsamic & Cider Vinegar', 'Baby Wipes', 'Exotic Fruits',\n",
       "       'Dustbins', 'Cut Fruit, Tender Coconut', 'Talcum Powder',\n",
       "       'Herbs, Seasonings & Rubs', 'Paneer, Tofu & Cream',\n",
       "       'Frozen Fish & Seafood', 'Nachos & Chips', 'Exotic Sugar & Salt',\n",
       "       'Salted Biscuits', 'Vacuum Flask', 'Cotton & Ear Buds',\n",
       "       'Marshmallow, Candy, Jelly', 'Chicken Sausages', 'Health Drinks',\n",
       "       'Frozen Vegetables', 'Eau De Parfum', 'Paper Napkin, Tissue Box',\n",
       "       'Toor, Channa & Moong Dal', 'Sippers & Bottles', 'Instant Noodles',\n",
       "       'Cereals & Millets', 'Mustard & Cheese Sauces', 'Pork & Ham',\n",
       "       'Basmati Rice', 'Cook And Serve', 'Nursing Tools', 'Cold Drinks',\n",
       "       'Coffee & Pre-Mix', 'Dinner Sets', 'Detergent Bars', 'Tea Bags',\n",
       "       'Oats & Porridge', 'Exotic Vegetables', 'Muffins & Cup Cakes',\n",
       "       'Copper Utensils', 'Salad Dressings', 'Hummus, Cheese, Salsa Dip',\n",
       "       'Cereal & Granola Bars', 'Organic Baby Food',\n",
       "       'Chilli & Soya Sauce', 'Other Veg Pickle', 'Muesli',\n",
       "       'Tomatoes & Vegetables', 'Crackers & Digestive', 'Kids Cereal',\n",
       "       'Toilet Cleaners', 'Dust Cloth & Wipes',\n",
       "       'Tampons & Menstrual Cups', 'Ghee & Vanaspati',\n",
       "       'Cups, Mugs & Tumblers', 'Other Pooja Needs', 'Choco & Nut Spread',\n",
       "       'Beans, Brinjals & Okra', 'Caps, Balloons & Candles',\n",
       "       'Pen, Pencils', 'Plates & Bowls', 'Organic & Cold Press Oil',\n",
       "       'Face Masks & Safety Gears', 'Root Vegetables', 'Dessert Mixes',\n",
       "       'Toilet & Other Brushes', 'Organic Flours', 'Talc',\n",
       "       'Toffee, Candy & Lollypop', 'Bath Stool, Basin & Sets',\n",
       "       'Bathing Accessories', 'Colours & Crayons',\n",
       "       'Jams, Marmalade, Spreads', 'Sexual Wellness', 'Farm Eggs',\n",
       "       'Kids (5+Yrs)', 'Milk & Soya Drinks', 'Honey & Maple Syrup',\n",
       "       'Hair Care & Styling', 'Pastas & Spaghetti',\n",
       "       'Baking Tools & Brushes', 'Baby Powder', 'Other Plastic Ware',\n",
       "       'Cutlery, Spoon & Fork', 'Toilet Paper', 'Exotic & Flavoured Tea',\n",
       "       'Mouthwash', 'Cocktail Mixes', 'Intimate Wash & Care',\n",
       "       'Baby Oil & Shampoo', 'Yogurt & Shrikhand',\n",
       "       'Organic Sugar, Jaggery', 'Fresh Sweets',\n",
       "       'Tomato Ketchup & Sauces', 'Hangers, Clips & Rope',\n",
       "       'Bath & Shower', 'Herbs & Seasoning', 'Aerated, Still, Sparkling',\n",
       "       'Electronic Accessories', 'Wall Hooks & Hangers',\n",
       "       \"Women's Deodorants\", 'Eye Care', 'Honey', 'Scissor, Glue & Tape',\n",
       "       'Tinned, Packed Sweets', 'Lighters', 'Garbage Bags',\n",
       "       'Soothers & Teethers', 'Mints & Chewing Gum', 'Ground Coffee',\n",
       "       'Buckets & Mugs', 'Perfume', 'Urad & Other Dals', 'Eyes',\n",
       "       'Fabric Pre, Post Wash', 'Cup Noodles', 'Pet Feeding Support',\n",
       "       'Pet Cleaning & Grooming', 'Non Veg Pickle',\n",
       "       'Frozen Non-Veg Snacks', 'Organic Dry Fruits', 'Sanitary Napkins',\n",
       "       'Dips & Dressings', 'Bath Salts & Oils', 'Mayonnaise',\n",
       "       'Gingelly Oil', 'Rice & Other Flours', 'Infant Formula',\n",
       "       'Shoe Polish', 'Cookies', 'Fresh Fish', 'Soups', 'Frozen Mutton',\n",
       "       'Syrups & Concentrates', 'Apples & Pomegranate',\n",
       "       'Detergent Powder, Liquid', 'Butter & Cream', 'Baby Bath',\n",
       "       'Kitchen Rolls', 'Boiled & Steam Rice', 'Extra Virgin Olive Oil',\n",
       "       'Muesli & Rice Cakes', 'Canned Seafood', 'Vinegar', 'Cheese',\n",
       "       'Gardening Tools', 'Racks & Holders', 'Mukhwas',\n",
       "       'Seasonal Accessories', 'Hair Styling', 'Pooja Thali & Bells',\n",
       "       'Ice Creams', 'Adult Diapers', 'Knives & Peelers',\n",
       "       'Baby Gift Sets', 'Cooking Chocolate, Cocoa',\n",
       "       'Jasmine & Sushi Rice', 'Buns, Pavs & Pizza Base', 'Gas Stove',\n",
       "       'Poha, Sabudana & Murmura', 'Men & Women', 'Raw Rice',\n",
       "       'Pasta & Macaroni', 'Fertilizers & Pesticides',\n",
       "       'Brooms & Dust Pans', 'Camphor & Wicks', 'Baby Oral Care',\n",
       "       'Frozen Indian Breads', 'Dishwash Liquids & Pastes',\n",
       "       'Battery & Electrical', 'Vermicelli', 'Gift Sets', 'Mangoes',\n",
       "       'Combos & Gift Sets', 'Baby Creams & Lotions',\n",
       "       'Pots, Planters & Trays', 'Bakeware Accessories',\n",
       "       'Bread Sticks & Lavash', 'Instant Coffee', 'Curd',\n",
       "       'Tea Cakes & Slice Cakes', 'Spring Water', 'Salts',\n",
       "       'Sugarfree Sweeteners', 'Imported Oats & Porridge', 'Cashews',\n",
       "       'Fresh Salads & Sprouts', 'Trail & Cocktail Mixes',\n",
       "       'Groundnut Oil', 'Leafy Vegetables', 'Premium Cookies',\n",
       "       'Pastries & Brownies', 'Soda & Cocktail Mix',\n",
       "       'Condensed, Powdered Milk', 'Moustache & Beard Care',\n",
       "       'Sooji, Maida & Besan', 'Fresh Mutton', 'Blended Cooking Oils',\n",
       "       'Insect Repellent', 'Car Freshener', 'Olive & Canola Oils',\n",
       "       'Floss & Tongue Cleaner', 'Car Polish & Cleaners', 'Cookware Sets',\n",
       "       'Face', 'Hakka Noodles', 'Panty Liners',\n",
       "       'Wet Wipe, Pocket Tissues', 'Candles & Match Box',\n",
       "       'Cream & Cheese Spreads', 'Eau De Cologne',\n",
       "       'Unsweetened, Cold Press', 'Flavoured & Greek Yogurt',\n",
       "       'Children (2-5 Yrs)', 'Khari & Cream Rolls',\n",
       "       'Disposable Cups & Plates', 'Meats & Sausages', 'Raisins',\n",
       "       'Jam, Conserve, Marmalade', 'Gift Wraps & Bags',\n",
       "       'Other Baby Accessories', 'Decorations', 'Panini, Focaccia & Pita',\n",
       "       'Instant Pasta', 'Baby Laundry', 'Games & Calculators',\n",
       "       'Gourmet Flakes', 'Birthday & Party Cakes', 'Pet Toys',\n",
       "       'Atta Whole Wheat', 'Croissants, Bagels', 'Antiseptics & Bandages',\n",
       "       'Aluminium Foil, Clingwrap', 'Body Scrubs & Exfoliants',\n",
       "       'Marinated Meat', 'Kiwi, Melon, Citrus Fruit',\n",
       "       'Organic Millet & Flours', 'Maternity Health Supplements',\n",
       "       'Brown, Wheat & Multigrain', 'Potato, Onion & Tomato',\n",
       "       'Glucose Powder, Tablets', 'Milk', 'Fresh & Frozen Pork',\n",
       "       'Wine & Rice Vinegar', 'Soya & Mustard Oils', 'Recipe Packs',\n",
       "       'Butter & Margarine', 'Glucose & Milk Biscuits',\n",
       "       'Gourd, Pumpkin, Drumstick', 'Other Flowers',\n",
       "       'Baby Dishes & Utensils', 'Makeup Accessories',\n",
       "       'Non Alcoholic Drinks', 'Dairy Free (Vegan)', 'Books & Magazines',\n",
       "       'Packaged Water', 'Canned Food', 'Almonds', 'Fruits & Pulps',\n",
       "       'Other Eggs', 'Cloth Dryer & Iron Table', 'Seeds & Sapling',\n",
       "       'Bakeware Moulds, Cutters', 'Buttermilk & Lassi',\n",
       "       'Dry Shampoo & Conditioner', 'Icetea, Non Aerated Drink',\n",
       "       'Country Eggs', 'Maternity Personal Care', 'Dry Fish',\n",
       "       'Cucumber & Capsicum', 'Bagels & Baguette', 'Slimming Products',\n",
       "       'Diabetic Drinks', 'Nails', 'Seasonal Fruits',\n",
       "       'Regular & White Vinegar', 'Gift Boxes',\n",
       "       'Non-Alcoholic Beer, Wine', 'Health Supplements', 'Protein Eggs',\n",
       "       'Fish & Tuna', 'Metal, Furniture Cleaner', 'Organic Eggs',\n",
       "       'Cheese & Garlic Bread', 'Baby Toys', 'Marigold',\n",
       "       'Erasers & Sharpeners', 'Baby Buds', 'Combs, Brushes, Clippers',\n",
       "       'Baking Accessories', 'Nappies & Rash Cream',\n",
       "       'Canola & Rapeseed Oil', 'Lips', 'Roses',\n",
       "       'Holi Colours & Pichkari', 'Prawns & Shrimps', 'Specialty',\n",
       "       'Turkey & Duck'], dtype=object)"
      ]
     },
     "execution_count": 15,
     "metadata": {},
     "output_type": "execute_result"
    }
   ],
   "source": [
    "data.item_type.unique()"
   ]
  },
  {
   "cell_type": "code",
   "execution_count": 14,
   "id": "b833bff3",
   "metadata": {},
   "outputs": [
    {
     "data": {
      "text/plain": [
       "2313"
      ]
     },
     "execution_count": 14,
     "metadata": {},
     "output_type": "execute_result"
    }
   ],
   "source": [
    "data.brand.nunique()"
   ]
  },
  {
   "cell_type": "code",
   "execution_count": 7,
   "id": "775557ef",
   "metadata": {},
   "outputs": [
    {
     "data": {
      "text/plain": [
       "90"
      ]
     },
     "execution_count": 7,
     "metadata": {},
     "output_type": "execute_result"
    }
   ],
   "source": [
    "data.sub_category.nunique()"
   ]
  },
  {
   "cell_type": "code",
   "execution_count": 8,
   "id": "fc0e02b4",
   "metadata": {},
   "outputs": [
    {
     "data": {
      "text/plain": [
       "11"
      ]
     },
     "execution_count": 8,
     "metadata": {},
     "output_type": "execute_result"
    }
   ],
   "source": [
    "data.category.nunique()"
   ]
  },
  {
   "cell_type": "code",
   "execution_count": 9,
   "id": "5af70a3a",
   "metadata": {},
   "outputs": [
    {
     "data": {
      "text/plain": [
       "item_index         0\n",
       "product            1\n",
       "category           0\n",
       "sub_category       0\n",
       "brand              1\n",
       "sale_price         0\n",
       "market_price       0\n",
       "item_type          0\n",
       "rating          8626\n",
       "dtype: int64"
      ]
     },
     "execution_count": 9,
     "metadata": {},
     "output_type": "execute_result"
    }
   ],
   "source": [
    "data.isnull().sum()"
   ]
  },
  {
   "cell_type": "code",
   "execution_count": 10,
   "id": "71bb3c5f",
   "metadata": {},
   "outputs": [
    {
     "data": {
      "text/plain": [
       "item_index      0\n",
       "product         1\n",
       "category        0\n",
       "sub_category    0\n",
       "brand           1\n",
       "sale_price      0\n",
       "market_price    0\n",
       "item_type       0\n",
       "rating          0\n",
       "dtype: int64"
      ]
     },
     "execution_count": 10,
     "metadata": {},
     "output_type": "execute_result"
    }
   ],
   "source": [
    "# replacing NaN values with mean\n",
    "data['rating'] = data['rating'].fillna(data['rating'].mean())\n",
    "data.isnull().sum()"
   ]
  },
  {
   "cell_type": "code",
   "execution_count": 11,
   "id": "b7eddbd2",
   "metadata": {},
   "outputs": [
    {
     "data": {
      "text/plain": [
       "item_index      0\n",
       "product         0\n",
       "category        0\n",
       "sub_category    0\n",
       "brand           0\n",
       "sale_price      0\n",
       "market_price    0\n",
       "item_type       0\n",
       "rating          0\n",
       "dtype: int64"
      ]
     },
     "execution_count": 11,
     "metadata": {},
     "output_type": "execute_result"
    }
   ],
   "source": [
    "#dropping NaN product and brand row\n",
    "data.dropna(how = 'any', inplace = True)\n",
    "data.isnull().sum()"
   ]
  },
  {
   "cell_type": "code",
   "execution_count": 12,
   "id": "48cdbfdb",
   "metadata": {},
   "outputs": [
    {
     "data": {
      "text/plain": [
       "(27553, 9)"
      ]
     },
     "execution_count": 12,
     "metadata": {},
     "output_type": "execute_result"
    }
   ],
   "source": [
    "data.shape"
   ]
  },
  {
   "cell_type": "code",
   "execution_count": 13,
   "id": "9067d5e2",
   "metadata": {},
   "outputs": [
    {
     "ename": "PermissionError",
     "evalue": "[Errno 13] Permission denied: 'Resources/BBClean.csv'",
     "output_type": "error",
     "traceback": [
      "\u001b[1;31m---------------------------------------------------------------------------\u001b[0m",
      "\u001b[1;31mPermissionError\u001b[0m                           Traceback (most recent call last)",
      "\u001b[1;32m~\\AppData\\Local\\Temp\\ipykernel_20856\\3255755170.py\u001b[0m in \u001b[0;36m<module>\u001b[1;34m\u001b[0m\n\u001b[0;32m      1\u001b[0m \u001b[1;31m# export to csv\u001b[0m\u001b[1;33m\u001b[0m\u001b[1;33m\u001b[0m\u001b[1;33m\u001b[0m\u001b[0m\n\u001b[1;32m----> 2\u001b[1;33m \u001b[0mdata\u001b[0m\u001b[1;33m.\u001b[0m\u001b[0mto_csv\u001b[0m\u001b[1;33m(\u001b[0m\u001b[1;34m'Resources/BBClean.csv'\u001b[0m\u001b[1;33m,\u001b[0m\u001b[0mencoding\u001b[0m\u001b[1;33m=\u001b[0m\u001b[1;34m'utf-8'\u001b[0m\u001b[1;33m,\u001b[0m\u001b[0mindex\u001b[0m\u001b[1;33m=\u001b[0m\u001b[1;32mFalse\u001b[0m\u001b[1;33m)\u001b[0m\u001b[1;33m\u001b[0m\u001b[1;33m\u001b[0m\u001b[0m\n\u001b[0m",
      "\u001b[1;32mc:\\Users\\15055\\anaconda3\\envs\\mlenv\\lib\\site-packages\\pandas\\core\\generic.py\u001b[0m in \u001b[0;36mto_csv\u001b[1;34m(self, path_or_buf, sep, na_rep, float_format, columns, header, index, index_label, mode, encoding, compression, quoting, quotechar, line_terminator, chunksize, date_format, doublequote, escapechar, decimal, errors, storage_options)\u001b[0m\n\u001b[0;32m   3480\u001b[0m             \u001b[0mdoublequote\u001b[0m\u001b[1;33m=\u001b[0m\u001b[0mdoublequote\u001b[0m\u001b[1;33m,\u001b[0m\u001b[1;33m\u001b[0m\u001b[1;33m\u001b[0m\u001b[0m\n\u001b[0;32m   3481\u001b[0m             \u001b[0mescapechar\u001b[0m\u001b[1;33m=\u001b[0m\u001b[0mescapechar\u001b[0m\u001b[1;33m,\u001b[0m\u001b[1;33m\u001b[0m\u001b[1;33m\u001b[0m\u001b[0m\n\u001b[1;32m-> 3482\u001b[1;33m             \u001b[0mstorage_options\u001b[0m\u001b[1;33m=\u001b[0m\u001b[0mstorage_options\u001b[0m\u001b[1;33m,\u001b[0m\u001b[1;33m\u001b[0m\u001b[1;33m\u001b[0m\u001b[0m\n\u001b[0m\u001b[0;32m   3483\u001b[0m         )\n\u001b[0;32m   3484\u001b[0m \u001b[1;33m\u001b[0m\u001b[0m\n",
      "\u001b[1;32mc:\\Users\\15055\\anaconda3\\envs\\mlenv\\lib\\site-packages\\pandas\\io\\formats\\format.py\u001b[0m in \u001b[0;36mto_csv\u001b[1;34m(self, path_or_buf, encoding, sep, columns, index_label, mode, compression, quoting, quotechar, line_terminator, chunksize, date_format, doublequote, escapechar, errors, storage_options)\u001b[0m\n\u001b[0;32m   1103\u001b[0m             \u001b[0mformatter\u001b[0m\u001b[1;33m=\u001b[0m\u001b[0mself\u001b[0m\u001b[1;33m.\u001b[0m\u001b[0mfmt\u001b[0m\u001b[1;33m,\u001b[0m\u001b[1;33m\u001b[0m\u001b[1;33m\u001b[0m\u001b[0m\n\u001b[0;32m   1104\u001b[0m         )\n\u001b[1;32m-> 1105\u001b[1;33m         \u001b[0mcsv_formatter\u001b[0m\u001b[1;33m.\u001b[0m\u001b[0msave\u001b[0m\u001b[1;33m(\u001b[0m\u001b[1;33m)\u001b[0m\u001b[1;33m\u001b[0m\u001b[1;33m\u001b[0m\u001b[0m\n\u001b[0m\u001b[0;32m   1106\u001b[0m \u001b[1;33m\u001b[0m\u001b[0m\n\u001b[0;32m   1107\u001b[0m         \u001b[1;32mif\u001b[0m \u001b[0mcreated_buffer\u001b[0m\u001b[1;33m:\u001b[0m\u001b[1;33m\u001b[0m\u001b[1;33m\u001b[0m\u001b[0m\n",
      "\u001b[1;32mc:\\Users\\15055\\anaconda3\\envs\\mlenv\\lib\\site-packages\\pandas\\io\\formats\\csvs.py\u001b[0m in \u001b[0;36msave\u001b[1;34m(self)\u001b[0m\n\u001b[0;32m    241\u001b[0m             \u001b[0merrors\u001b[0m\u001b[1;33m=\u001b[0m\u001b[0mself\u001b[0m\u001b[1;33m.\u001b[0m\u001b[0merrors\u001b[0m\u001b[1;33m,\u001b[0m\u001b[1;33m\u001b[0m\u001b[1;33m\u001b[0m\u001b[0m\n\u001b[0;32m    242\u001b[0m             \u001b[0mcompression\u001b[0m\u001b[1;33m=\u001b[0m\u001b[0mself\u001b[0m\u001b[1;33m.\u001b[0m\u001b[0mcompression\u001b[0m\u001b[1;33m,\u001b[0m\u001b[1;33m\u001b[0m\u001b[1;33m\u001b[0m\u001b[0m\n\u001b[1;32m--> 243\u001b[1;33m             \u001b[0mstorage_options\u001b[0m\u001b[1;33m=\u001b[0m\u001b[0mself\u001b[0m\u001b[1;33m.\u001b[0m\u001b[0mstorage_options\u001b[0m\u001b[1;33m,\u001b[0m\u001b[1;33m\u001b[0m\u001b[1;33m\u001b[0m\u001b[0m\n\u001b[0m\u001b[0;32m    244\u001b[0m         ) as handles:\n\u001b[0;32m    245\u001b[0m \u001b[1;33m\u001b[0m\u001b[0m\n",
      "\u001b[1;32mc:\\Users\\15055\\anaconda3\\envs\\mlenv\\lib\\site-packages\\pandas\\io\\common.py\u001b[0m in \u001b[0;36mget_handle\u001b[1;34m(path_or_buf, mode, encoding, compression, memory_map, is_text, errors, storage_options)\u001b[0m\n\u001b[0;32m    705\u001b[0m                 \u001b[0mencoding\u001b[0m\u001b[1;33m=\u001b[0m\u001b[0mioargs\u001b[0m\u001b[1;33m.\u001b[0m\u001b[0mencoding\u001b[0m\u001b[1;33m,\u001b[0m\u001b[1;33m\u001b[0m\u001b[1;33m\u001b[0m\u001b[0m\n\u001b[0;32m    706\u001b[0m                 \u001b[0merrors\u001b[0m\u001b[1;33m=\u001b[0m\u001b[0merrors\u001b[0m\u001b[1;33m,\u001b[0m\u001b[1;33m\u001b[0m\u001b[1;33m\u001b[0m\u001b[0m\n\u001b[1;32m--> 707\u001b[1;33m                 \u001b[0mnewline\u001b[0m\u001b[1;33m=\u001b[0m\u001b[1;34m\"\"\u001b[0m\u001b[1;33m,\u001b[0m\u001b[1;33m\u001b[0m\u001b[1;33m\u001b[0m\u001b[0m\n\u001b[0m\u001b[0;32m    708\u001b[0m             )\n\u001b[0;32m    709\u001b[0m         \u001b[1;32melse\u001b[0m\u001b[1;33m:\u001b[0m\u001b[1;33m\u001b[0m\u001b[1;33m\u001b[0m\u001b[0m\n",
      "\u001b[1;31mPermissionError\u001b[0m: [Errno 13] Permission denied: 'Resources/BBClean.csv'"
     ]
    }
   ],
   "source": [
    "# export to csv\n",
    "data.to_csv('Resources/BBClean.csv',encoding='utf-8',index=False)"
   ]
  }
 ],
 "metadata": {
  "kernelspec": {
   "display_name": "Python 3.7.13 ('mlenv')",
   "language": "python",
   "name": "python3"
  },
  "language_info": {
   "codemirror_mode": {
    "name": "ipython",
    "version": 3
   },
   "file_extension": ".py",
   "mimetype": "text/x-python",
   "name": "python",
   "nbconvert_exporter": "python",
   "pygments_lexer": "ipython3",
   "version": "3.7.13"
  },
  "vscode": {
   "interpreter": {
    "hash": "1091a4cae705c5122d7c75f13ae7d8670ad1778ce0d78d580a8f83668613e47c"
   }
  }
 },
 "nbformat": 4,
 "nbformat_minor": 5
}
