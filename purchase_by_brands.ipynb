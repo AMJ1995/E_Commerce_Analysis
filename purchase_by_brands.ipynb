{
 "cells": [
  {
   "cell_type": "code",
   "execution_count": 1,
   "id": "4a9b889e",
   "metadata": {},
   "outputs": [],
   "source": [
    "# Dependencies\n",
    "import numpy as np\n",
    "import pandas as pd\n",
    "import datetime as dt\n",
    "\n",
    "# Python SQL toolkit and Object Relational Mapper\n",
    "import sqlalchemy\n",
    "from sqlalchemy.ext.automap import automap_base\n",
    "from sqlalchemy.orm import Session\n",
    "from sqlalchemy import create_engine, func"
   ]
  },
  {
   "cell_type": "code",
   "execution_count": 2,
   "id": "135cc6af",
   "metadata": {},
   "outputs": [
    {
     "data": {
      "text/html": [
       "<div>\n",
       "<style scoped>\n",
       "    .dataframe tbody tr th:only-of-type {\n",
       "        vertical-align: middle;\n",
       "    }\n",
       "\n",
       "    .dataframe tbody tr th {\n",
       "        vertical-align: top;\n",
       "    }\n",
       "\n",
       "    .dataframe thead th {\n",
       "        text-align: right;\n",
       "    }\n",
       "</style>\n",
       "<table border=\"1\" class=\"dataframe\">\n",
       "  <thead>\n",
       "    <tr style=\"text-align: right;\">\n",
       "      <th></th>\n",
       "      <th>event_index</th>\n",
       "      <th>event_time</th>\n",
       "      <th>product_id</th>\n",
       "      <th>category_code</th>\n",
       "      <th>brand</th>\n",
       "      <th>price</th>\n",
       "    </tr>\n",
       "  </thead>\n",
       "  <tbody>\n",
       "    <tr>\n",
       "      <th>0</th>\n",
       "      <td>26560704</td>\n",
       "      <td>2019-11-01 00:01:04</td>\n",
       "      <td>1005161</td>\n",
       "      <td>electronics.smartphone</td>\n",
       "      <td>xiaomi</td>\n",
       "      <td>211.92</td>\n",
       "    </tr>\n",
       "    <tr>\n",
       "      <th>1</th>\n",
       "      <td>26561009</td>\n",
       "      <td>2019-11-01 00:04:51</td>\n",
       "      <td>1004856</td>\n",
       "      <td>electronics.smartphone</td>\n",
       "      <td>samsung</td>\n",
       "      <td>128.42</td>\n",
       "    </tr>\n",
       "    <tr>\n",
       "      <th>2</th>\n",
       "      <td>26561149</td>\n",
       "      <td>2019-11-01 00:06:33</td>\n",
       "      <td>1801881</td>\n",
       "      <td>electronics.video.tv</td>\n",
       "      <td>samsung</td>\n",
       "      <td>488.80</td>\n",
       "    </tr>\n",
       "    <tr>\n",
       "      <th>3</th>\n",
       "      <td>26561150</td>\n",
       "      <td>2019-11-01 00:06:34</td>\n",
       "      <td>5800823</td>\n",
       "      <td>electronics.audio.subwoofer</td>\n",
       "      <td>nakamichi</td>\n",
       "      <td>123.56</td>\n",
       "    </tr>\n",
       "    <tr>\n",
       "      <th>4</th>\n",
       "      <td>26561234</td>\n",
       "      <td>2019-11-01 00:07:38</td>\n",
       "      <td>30000218</td>\n",
       "      <td>construction.tools.welding</td>\n",
       "      <td>magnetta</td>\n",
       "      <td>254.78</td>\n",
       "    </tr>\n",
       "  </tbody>\n",
       "</table>\n",
       "</div>"
      ],
      "text/plain": [
       "   event_index           event_time  product_id                category_code  \\\n",
       "0     26560704  2019-11-01 00:01:04     1005161       electronics.smartphone   \n",
       "1     26561009  2019-11-01 00:04:51     1004856       electronics.smartphone   \n",
       "2     26561149  2019-11-01 00:06:33     1801881         electronics.video.tv   \n",
       "3     26561150  2019-11-01 00:06:34     5800823  electronics.audio.subwoofer   \n",
       "4     26561234  2019-11-01 00:07:38    30000218   construction.tools.welding   \n",
       "\n",
       "       brand   price  \n",
       "0     xiaomi  211.92  \n",
       "1    samsung  128.42  \n",
       "2    samsung  488.80  \n",
       "3  nakamichi  123.56  \n",
       "4   magnetta  254.78  "
      ]
     },
     "execution_count": 2,
     "metadata": {},
     "output_type": "execute_result"
    }
   ],
   "source": [
    "# read csv and check columns\n",
    "nov_data = pd.read_csv('../e_commerce_analysis_temp/csv/purchase_Nov_2019.csv')\n",
    "oct_data = pd.read_csv('../e_commerce_analysis_temp/csv/purchase_Oct_2019.csv')\n",
    "nov_data.head()"
   ]
  },
  {
   "cell_type": "code",
   "execution_count": 3,
   "id": "9a7dd7b0",
   "metadata": {},
   "outputs": [
    {
     "data": {
      "text/html": [
       "<div>\n",
       "<style scoped>\n",
       "    .dataframe tbody tr th:only-of-type {\n",
       "        vertical-align: middle;\n",
       "    }\n",
       "\n",
       "    .dataframe tbody tr th {\n",
       "        vertical-align: top;\n",
       "    }\n",
       "\n",
       "    .dataframe thead th {\n",
       "        text-align: right;\n",
       "    }\n",
       "</style>\n",
       "<table border=\"1\" class=\"dataframe\">\n",
       "  <thead>\n",
       "    <tr style=\"text-align: right;\">\n",
       "      <th></th>\n",
       "      <th>event_index</th>\n",
       "      <th>event_time</th>\n",
       "      <th>product_id</th>\n",
       "      <th>category_code</th>\n",
       "      <th>brand</th>\n",
       "      <th>price</th>\n",
       "    </tr>\n",
       "  </thead>\n",
       "  <tbody>\n",
       "    <tr>\n",
       "      <th>0</th>\n",
       "      <td>112</td>\n",
       "      <td>2019-10-01 00:02:14</td>\n",
       "      <td>1004856</td>\n",
       "      <td>electronics.smartphone</td>\n",
       "      <td>samsung</td>\n",
       "      <td>130.76</td>\n",
       "    </tr>\n",
       "    <tr>\n",
       "      <th>1</th>\n",
       "      <td>198</td>\n",
       "      <td>2019-10-01 00:04:37</td>\n",
       "      <td>1002532</td>\n",
       "      <td>electronics.smartphone</td>\n",
       "      <td>apple</td>\n",
       "      <td>642.69</td>\n",
       "    </tr>\n",
       "    <tr>\n",
       "      <th>2</th>\n",
       "      <td>269</td>\n",
       "      <td>2019-10-01 00:07:07</td>\n",
       "      <td>13800054</td>\n",
       "      <td>furniture.bathroom.toilet</td>\n",
       "      <td>santeri</td>\n",
       "      <td>54.42</td>\n",
       "    </tr>\n",
       "    <tr>\n",
       "      <th>3</th>\n",
       "      <td>340</td>\n",
       "      <td>2019-10-01 00:09:26</td>\n",
       "      <td>4804055</td>\n",
       "      <td>electronics.audio.headphone</td>\n",
       "      <td>apple</td>\n",
       "      <td>189.91</td>\n",
       "    </tr>\n",
       "    <tr>\n",
       "      <th>4</th>\n",
       "      <td>353</td>\n",
       "      <td>2019-10-01 00:09:54</td>\n",
       "      <td>4804056</td>\n",
       "      <td>electronics.audio.headphone</td>\n",
       "      <td>apple</td>\n",
       "      <td>161.98</td>\n",
       "    </tr>\n",
       "  </tbody>\n",
       "</table>\n",
       "</div>"
      ],
      "text/plain": [
       "   event_index           event_time  product_id                category_code  \\\n",
       "0          112  2019-10-01 00:02:14     1004856       electronics.smartphone   \n",
       "1          198  2019-10-01 00:04:37     1002532       electronics.smartphone   \n",
       "2          269  2019-10-01 00:07:07    13800054    furniture.bathroom.toilet   \n",
       "3          340  2019-10-01 00:09:26     4804055  electronics.audio.headphone   \n",
       "4          353  2019-10-01 00:09:54     4804056  electronics.audio.headphone   \n",
       "\n",
       "     brand   price  \n",
       "0  samsung  130.76  \n",
       "1    apple  642.69  \n",
       "2  santeri   54.42  \n",
       "3    apple  189.91  \n",
       "4    apple  161.98  "
      ]
     },
     "execution_count": 3,
     "metadata": {},
     "output_type": "execute_result"
    }
   ],
   "source": [
    "# check columns\n",
    "oct_data.head()"
   ]
  },
  {
   "cell_type": "code",
   "execution_count": 4,
   "metadata": {},
   "outputs": [
    {
     "data": {
      "text/plain": [
       "samsung     171706\n",
       "apple       142577\n",
       "xiaomi       46595\n",
       "huawei       23294\n",
       "oppo         10891\n",
       "lg            7831\n",
       "acer          6882\n",
       "elenberg      5435\n",
       "indesit       5023\n",
       "artel         4717\n",
       "Name: brand, dtype: int64"
      ]
     },
     "execution_count": 4,
     "metadata": {},
     "output_type": "execute_result"
    }
   ],
   "source": [
    "# finding top ten brands\n",
    "oct_data['brand'].value_counts().nlargest(10)"
   ]
  },
  {
   "cell_type": "code",
   "execution_count": 5,
   "id": "2992fb7a",
   "metadata": {},
   "outputs": [
    {
     "data": {
      "text/plain": [
       "samsung    198670\n",
       "apple      165681\n",
       "xiaomi      57909\n",
       "huawei      23466\n",
       "oppo        15080\n",
       "lg          11828\n",
       "artel        7269\n",
       "lenovo       6546\n",
       "acer         6402\n",
       "bosch        5718\n",
       "Name: brand, dtype: int64"
      ]
     },
     "execution_count": 5,
     "metadata": {},
     "output_type": "execute_result"
    }
   ],
   "source": [
    "# finding top ten brands\n",
    "nov_data['brand'].value_counts().nlargest(10)"
   ]
  },
  {
   "cell_type": "code",
   "execution_count": 6,
   "id": "b951d8ac",
   "metadata": {},
   "outputs": [
    {
     "data": {
      "text/plain": [
       "electronics.smartphone              337575\n",
       "electronics.audio.headphone          30439\n",
       "electronics.video.tv                 21548\n",
       "electronics.clocks                   16647\n",
       "appliances.kitchen.washer            16059\n",
       "computers.notebook                   15547\n",
       "appliances.environment.vacuum        12218\n",
       "appliances.kitchen.refrigerators      8871\n",
       "electronics.tablet                    5599\n",
       "electronics.telephone                 3733\n",
       "Name: category_code, dtype: int64"
      ]
     },
     "execution_count": 6,
     "metadata": {},
     "output_type": "execute_result"
    }
   ],
   "source": [
    "# top categories\n",
    "oct_data['category_code'].value_counts().nlargest(10)"
   ]
  },
  {
   "cell_type": "code",
   "execution_count": 7,
   "id": "5e78a8cb",
   "metadata": {},
   "outputs": [
    {
     "data": {
      "text/plain": [
       "electronics.smartphone              382492\n",
       "electronics.audio.headphone          40742\n",
       "electronics.video.tv                 30178\n",
       "electronics.clocks                   21426\n",
       "appliances.kitchen.washer            19680\n",
       "computers.notebook                   18323\n",
       "appliances.environment.vacuum        18122\n",
       "appliances.kitchen.refrigerators     10420\n",
       "apparel.shoes                         8768\n",
       "electronics.tablet                    6123\n",
       "Name: category_code, dtype: int64"
      ]
     },
     "execution_count": 7,
     "metadata": {},
     "output_type": "execute_result"
    }
   ],
   "source": [
    "# top categories\n",
    "nov_data['category_code'].value_counts().nlargest(10)"
   ]
  },
  {
   "cell_type": "code",
   "execution_count": 8,
   "id": "fa6fae4f",
   "metadata": {},
   "outputs": [
    {
     "data": {
      "text/html": [
       "<div>\n",
       "<style scoped>\n",
       "    .dataframe tbody tr th:only-of-type {\n",
       "        vertical-align: middle;\n",
       "    }\n",
       "\n",
       "    .dataframe tbody tr th {\n",
       "        vertical-align: top;\n",
       "    }\n",
       "\n",
       "    .dataframe thead th {\n",
       "        text-align: right;\n",
       "    }\n",
       "</style>\n",
       "<table border=\"1\" class=\"dataframe\">\n",
       "  <thead>\n",
       "    <tr style=\"text-align: right;\">\n",
       "      <th></th>\n",
       "      <th>event_index</th>\n",
       "      <th>event_time</th>\n",
       "      <th>product_id</th>\n",
       "      <th>category_code</th>\n",
       "      <th>brand</th>\n",
       "      <th>price</th>\n",
       "    </tr>\n",
       "  </thead>\n",
       "  <tbody>\n",
       "    <tr>\n",
       "      <th>0</th>\n",
       "      <td>112</td>\n",
       "      <td>2019-10-01 00:02:14</td>\n",
       "      <td>1004856</td>\n",
       "      <td>electronics.smartphone</td>\n",
       "      <td>samsung</td>\n",
       "      <td>130.76</td>\n",
       "    </tr>\n",
       "    <tr>\n",
       "      <th>1</th>\n",
       "      <td>198</td>\n",
       "      <td>2019-10-01 00:04:37</td>\n",
       "      <td>1002532</td>\n",
       "      <td>electronics.smartphone</td>\n",
       "      <td>apple</td>\n",
       "      <td>642.69</td>\n",
       "    </tr>\n",
       "    <tr>\n",
       "      <th>3</th>\n",
       "      <td>340</td>\n",
       "      <td>2019-10-01 00:09:26</td>\n",
       "      <td>4804055</td>\n",
       "      <td>electronics.audio.headphone</td>\n",
       "      <td>apple</td>\n",
       "      <td>189.91</td>\n",
       "    </tr>\n",
       "    <tr>\n",
       "      <th>4</th>\n",
       "      <td>353</td>\n",
       "      <td>2019-10-01 00:09:54</td>\n",
       "      <td>4804056</td>\n",
       "      <td>electronics.audio.headphone</td>\n",
       "      <td>apple</td>\n",
       "      <td>161.98</td>\n",
       "    </tr>\n",
       "    <tr>\n",
       "      <th>5</th>\n",
       "      <td>363</td>\n",
       "      <td>2019-10-01 00:10:08</td>\n",
       "      <td>1002524</td>\n",
       "      <td>electronics.smartphone</td>\n",
       "      <td>apple</td>\n",
       "      <td>515.67</td>\n",
       "    </tr>\n",
       "  </tbody>\n",
       "</table>\n",
       "</div>"
      ],
      "text/plain": [
       "   event_index           event_time  product_id                category_code  \\\n",
       "0          112  2019-10-01 00:02:14     1004856       electronics.smartphone   \n",
       "1          198  2019-10-01 00:04:37     1002532       electronics.smartphone   \n",
       "3          340  2019-10-01 00:09:26     4804055  electronics.audio.headphone   \n",
       "4          353  2019-10-01 00:09:54     4804056  electronics.audio.headphone   \n",
       "5          363  2019-10-01 00:10:08     1002524       electronics.smartphone   \n",
       "\n",
       "     brand   price  \n",
       "0  samsung  130.76  \n",
       "1    apple  642.69  \n",
       "3    apple  189.91  \n",
       "4    apple  161.98  \n",
       "5    apple  515.67  "
      ]
     },
     "execution_count": 8,
     "metadata": {},
     "output_type": "execute_result"
    }
   ],
   "source": [
    "# reducing data to top five brands since top five is the same in both files\n",
    "top_five_oct = oct_data.loc[(oct_data['brand'] == 'samsung') | (oct_data['brand'] == 'apple') | (oct_data['brand'] == 'xiaomi') | (oct_data['brand'] == 'huawei') | (oct_data['brand'] == 'oppo')].sort_values(by = \"event_index\")\n",
    "top_five_oct.head()"
   ]
  },
  {
   "cell_type": "code",
   "execution_count": 9,
   "id": "f9634784",
   "metadata": {},
   "outputs": [
    {
     "data": {
      "text/html": [
       "<div>\n",
       "<style scoped>\n",
       "    .dataframe tbody tr th:only-of-type {\n",
       "        vertical-align: middle;\n",
       "    }\n",
       "\n",
       "    .dataframe tbody tr th {\n",
       "        vertical-align: top;\n",
       "    }\n",
       "\n",
       "    .dataframe thead th {\n",
       "        text-align: right;\n",
       "    }\n",
       "</style>\n",
       "<table border=\"1\" class=\"dataframe\">\n",
       "  <thead>\n",
       "    <tr style=\"text-align: right;\">\n",
       "      <th></th>\n",
       "      <th>event_index</th>\n",
       "      <th>event_time</th>\n",
       "      <th>product_id</th>\n",
       "      <th>category_code</th>\n",
       "      <th>brand</th>\n",
       "      <th>price</th>\n",
       "    </tr>\n",
       "  </thead>\n",
       "  <tbody>\n",
       "    <tr>\n",
       "      <th>0</th>\n",
       "      <td>26560704</td>\n",
       "      <td>2019-11-01 00:01:04</td>\n",
       "      <td>1005161</td>\n",
       "      <td>electronics.smartphone</td>\n",
       "      <td>xiaomi</td>\n",
       "      <td>211.92</td>\n",
       "    </tr>\n",
       "    <tr>\n",
       "      <th>1</th>\n",
       "      <td>26561009</td>\n",
       "      <td>2019-11-01 00:04:51</td>\n",
       "      <td>1004856</td>\n",
       "      <td>electronics.smartphone</td>\n",
       "      <td>samsung</td>\n",
       "      <td>128.42</td>\n",
       "    </tr>\n",
       "    <tr>\n",
       "      <th>2</th>\n",
       "      <td>26561149</td>\n",
       "      <td>2019-11-01 00:06:33</td>\n",
       "      <td>1801881</td>\n",
       "      <td>electronics.video.tv</td>\n",
       "      <td>samsung</td>\n",
       "      <td>488.80</td>\n",
       "    </tr>\n",
       "    <tr>\n",
       "      <th>5</th>\n",
       "      <td>26561455</td>\n",
       "      <td>2019-11-01 00:10:12</td>\n",
       "      <td>1801881</td>\n",
       "      <td>electronics.video.tv</td>\n",
       "      <td>samsung</td>\n",
       "      <td>488.80</td>\n",
       "    </tr>\n",
       "    <tr>\n",
       "      <th>7</th>\n",
       "      <td>26561506</td>\n",
       "      <td>2019-11-01 00:10:47</td>\n",
       "      <td>1005124</td>\n",
       "      <td>electronics.smartphone</td>\n",
       "      <td>apple</td>\n",
       "      <td>1583.48</td>\n",
       "    </tr>\n",
       "  </tbody>\n",
       "</table>\n",
       "</div>"
      ],
      "text/plain": [
       "   event_index           event_time  product_id           category_code  \\\n",
       "0     26560704  2019-11-01 00:01:04     1005161  electronics.smartphone   \n",
       "1     26561009  2019-11-01 00:04:51     1004856  electronics.smartphone   \n",
       "2     26561149  2019-11-01 00:06:33     1801881    electronics.video.tv   \n",
       "5     26561455  2019-11-01 00:10:12     1801881    electronics.video.tv   \n",
       "7     26561506  2019-11-01 00:10:47     1005124  electronics.smartphone   \n",
       "\n",
       "     brand    price  \n",
       "0   xiaomi   211.92  \n",
       "1  samsung   128.42  \n",
       "2  samsung   488.80  \n",
       "5  samsung   488.80  \n",
       "7    apple  1583.48  "
      ]
     },
     "execution_count": 9,
     "metadata": {},
     "output_type": "execute_result"
    }
   ],
   "source": [
    "# reducing data to top five brands since top five is the same in both files\n",
    "top_five_nov = nov_data.loc[(nov_data['brand'] == 'samsung') | (nov_data['brand'] == 'apple') | (nov_data['brand'] == 'xiaomi') | (nov_data['brand'] == 'huawei') | (nov_data['brand'] == 'oppo')].sort_values(by = \"event_index\")\n",
    "top_five_nov.head()"
   ]
  },
  {
   "cell_type": "code",
   "execution_count": 10,
   "id": "8cfc400d",
   "metadata": {},
   "outputs": [],
   "source": [
    "# export to csv\n",
    "\n",
    "nov_data.to_csv('../e_commerce_analysis_temp/csv/top_five_nov_2019.csv',encoding='utf-8',index=False)\n",
    "oct_data.to_csv('../e_commerce_analysis_temp/csv/top_five_oct_2019.csv',encoding='utf-8',index=False)"
   ]
  }
 ],
 "metadata": {
  "kernelspec": {
   "display_name": "mlenv",
   "language": "python",
   "name": "mlenv"
  },
  "language_info": {
   "codemirror_mode": {
    "name": "ipython",
    "version": 3
   },
   "file_extension": ".py",
   "mimetype": "text/x-python",
   "name": "python",
   "nbconvert_exporter": "python",
   "pygments_lexer": "ipython3",
   "version": "3.7.13"
  },
  "vscode": {
   "interpreter": {
    "hash": "b2f555cafb12475f0ce9fea052579e170404699e1890ae885557d7ed909c95c2"
   }
  }
 },
 "nbformat": 4,
 "nbformat_minor": 5
}
